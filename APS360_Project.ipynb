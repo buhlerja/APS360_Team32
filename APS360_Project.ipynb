{
  "nbformat": 4,
  "nbformat_minor": 0,
  "metadata": {
    "colab": {
      "provenance": [],
      "include_colab_link": true
    },
    "kernelspec": {
      "name": "python3",
      "display_name": "Python 3"
    },
    "language_info": {
      "name": "python"
    }
  },
  "cells": [
    {
      "cell_type": "markdown",
      "metadata": {
        "id": "view-in-github",
        "colab_type": "text"
      },
      "source": [
        "<a href=\"https://colab.research.google.com/github/buhlerja/APS360_Team32/blob/main/APS360_Project.ipynb\" target=\"_parent\"><img src=\"https://colab.research.google.com/assets/colab-badge.svg\" alt=\"Open In Colab\"/></a>"
      ]
    },
    {
      "cell_type": "code",
      "execution_count": null,
      "metadata": {
        "colab": {
          "base_uri": "https://localhost:8080/",
          "height": 73
        },
        "id": "IBjxjO8KE1UR",
        "outputId": "8bdd90f6-217f-41d6-ac95-391806f6b2d0"
      },
      "outputs": [
        {
          "output_type": "display_data",
          "data": {
            "text/plain": [
              "<IPython.core.display.HTML object>"
            ],
            "text/html": [
              "\n",
              "     <input type=\"file\" id=\"files-a2326036-70dc-47d7-a8c0-f63c5c817594\" name=\"files[]\" multiple disabled\n",
              "        style=\"border:none\" />\n",
              "     <output id=\"result-a2326036-70dc-47d7-a8c0-f63c5c817594\">\n",
              "      Upload widget is only available when the cell has been executed in the\n",
              "      current browser session. Please rerun this cell to enable.\n",
              "      </output>\n",
              "      <script>// Copyright 2017 Google LLC\n",
              "//\n",
              "// Licensed under the Apache License, Version 2.0 (the \"License\");\n",
              "// you may not use this file except in compliance with the License.\n",
              "// You may obtain a copy of the License at\n",
              "//\n",
              "//      http://www.apache.org/licenses/LICENSE-2.0\n",
              "//\n",
              "// Unless required by applicable law or agreed to in writing, software\n",
              "// distributed under the License is distributed on an \"AS IS\" BASIS,\n",
              "// WITHOUT WARRANTIES OR CONDITIONS OF ANY KIND, either express or implied.\n",
              "// See the License for the specific language governing permissions and\n",
              "// limitations under the License.\n",
              "\n",
              "/**\n",
              " * @fileoverview Helpers for google.colab Python module.\n",
              " */\n",
              "(function(scope) {\n",
              "function span(text, styleAttributes = {}) {\n",
              "  const element = document.createElement('span');\n",
              "  element.textContent = text;\n",
              "  for (const key of Object.keys(styleAttributes)) {\n",
              "    element.style[key] = styleAttributes[key];\n",
              "  }\n",
              "  return element;\n",
              "}\n",
              "\n",
              "// Max number of bytes which will be uploaded at a time.\n",
              "const MAX_PAYLOAD_SIZE = 100 * 1024;\n",
              "\n",
              "function _uploadFiles(inputId, outputId) {\n",
              "  const steps = uploadFilesStep(inputId, outputId);\n",
              "  const outputElement = document.getElementById(outputId);\n",
              "  // Cache steps on the outputElement to make it available for the next call\n",
              "  // to uploadFilesContinue from Python.\n",
              "  outputElement.steps = steps;\n",
              "\n",
              "  return _uploadFilesContinue(outputId);\n",
              "}\n",
              "\n",
              "// This is roughly an async generator (not supported in the browser yet),\n",
              "// where there are multiple asynchronous steps and the Python side is going\n",
              "// to poll for completion of each step.\n",
              "// This uses a Promise to block the python side on completion of each step,\n",
              "// then passes the result of the previous step as the input to the next step.\n",
              "function _uploadFilesContinue(outputId) {\n",
              "  const outputElement = document.getElementById(outputId);\n",
              "  const steps = outputElement.steps;\n",
              "\n",
              "  const next = steps.next(outputElement.lastPromiseValue);\n",
              "  return Promise.resolve(next.value.promise).then((value) => {\n",
              "    // Cache the last promise value to make it available to the next\n",
              "    // step of the generator.\n",
              "    outputElement.lastPromiseValue = value;\n",
              "    return next.value.response;\n",
              "  });\n",
              "}\n",
              "\n",
              "/**\n",
              " * Generator function which is called between each async step of the upload\n",
              " * process.\n",
              " * @param {string} inputId Element ID of the input file picker element.\n",
              " * @param {string} outputId Element ID of the output display.\n",
              " * @return {!Iterable<!Object>} Iterable of next steps.\n",
              " */\n",
              "function* uploadFilesStep(inputId, outputId) {\n",
              "  const inputElement = document.getElementById(inputId);\n",
              "  inputElement.disabled = false;\n",
              "\n",
              "  const outputElement = document.getElementById(outputId);\n",
              "  outputElement.innerHTML = '';\n",
              "\n",
              "  const pickedPromise = new Promise((resolve) => {\n",
              "    inputElement.addEventListener('change', (e) => {\n",
              "      resolve(e.target.files);\n",
              "    });\n",
              "  });\n",
              "\n",
              "  const cancel = document.createElement('button');\n",
              "  inputElement.parentElement.appendChild(cancel);\n",
              "  cancel.textContent = 'Cancel upload';\n",
              "  const cancelPromise = new Promise((resolve) => {\n",
              "    cancel.onclick = () => {\n",
              "      resolve(null);\n",
              "    };\n",
              "  });\n",
              "\n",
              "  // Wait for the user to pick the files.\n",
              "  const files = yield {\n",
              "    promise: Promise.race([pickedPromise, cancelPromise]),\n",
              "    response: {\n",
              "      action: 'starting',\n",
              "    }\n",
              "  };\n",
              "\n",
              "  cancel.remove();\n",
              "\n",
              "  // Disable the input element since further picks are not allowed.\n",
              "  inputElement.disabled = true;\n",
              "\n",
              "  if (!files) {\n",
              "    return {\n",
              "      response: {\n",
              "        action: 'complete',\n",
              "      }\n",
              "    };\n",
              "  }\n",
              "\n",
              "  for (const file of files) {\n",
              "    const li = document.createElement('li');\n",
              "    li.append(span(file.name, {fontWeight: 'bold'}));\n",
              "    li.append(span(\n",
              "        `(${file.type || 'n/a'}) - ${file.size} bytes, ` +\n",
              "        `last modified: ${\n",
              "            file.lastModifiedDate ? file.lastModifiedDate.toLocaleDateString() :\n",
              "                                    'n/a'} - `));\n",
              "    const percent = span('0% done');\n",
              "    li.appendChild(percent);\n",
              "\n",
              "    outputElement.appendChild(li);\n",
              "\n",
              "    const fileDataPromise = new Promise((resolve) => {\n",
              "      const reader = new FileReader();\n",
              "      reader.onload = (e) => {\n",
              "        resolve(e.target.result);\n",
              "      };\n",
              "      reader.readAsArrayBuffer(file);\n",
              "    });\n",
              "    // Wait for the data to be ready.\n",
              "    let fileData = yield {\n",
              "      promise: fileDataPromise,\n",
              "      response: {\n",
              "        action: 'continue',\n",
              "      }\n",
              "    };\n",
              "\n",
              "    // Use a chunked sending to avoid message size limits. See b/62115660.\n",
              "    let position = 0;\n",
              "    do {\n",
              "      const length = Math.min(fileData.byteLength - position, MAX_PAYLOAD_SIZE);\n",
              "      const chunk = new Uint8Array(fileData, position, length);\n",
              "      position += length;\n",
              "\n",
              "      const base64 = btoa(String.fromCharCode.apply(null, chunk));\n",
              "      yield {\n",
              "        response: {\n",
              "          action: 'append',\n",
              "          file: file.name,\n",
              "          data: base64,\n",
              "        },\n",
              "      };\n",
              "\n",
              "      let percentDone = fileData.byteLength === 0 ?\n",
              "          100 :\n",
              "          Math.round((position / fileData.byteLength) * 100);\n",
              "      percent.textContent = `${percentDone}% done`;\n",
              "\n",
              "    } while (position < fileData.byteLength);\n",
              "  }\n",
              "\n",
              "  // All done.\n",
              "  yield {\n",
              "    response: {\n",
              "      action: 'complete',\n",
              "    }\n",
              "  };\n",
              "}\n",
              "\n",
              "scope.google = scope.google || {};\n",
              "scope.google.colab = scope.google.colab || {};\n",
              "scope.google.colab._files = {\n",
              "  _uploadFiles,\n",
              "  _uploadFilesContinue,\n",
              "};\n",
              "})(self);\n",
              "</script> "
            ]
          },
          "metadata": {}
        },
        {
          "output_type": "stream",
          "name": "stdout",
          "text": [
            "Saving Training_Essay_Data.csv to Training_Essay_Data.csv\n"
          ]
        }
      ],
      "source": [
        "from google.colab import files\n",
        "\n",
        "uploaded = files.upload()"
      ]
    },
    {
      "cell_type": "code",
      "source": [
        "import numpy as np\n",
        "import matplotlib.pyplot as plt\n",
        "import time\n",
        "import torch\n",
        "import torch.nn as nn\n",
        "import torch.nn.functional as F\n",
        "import torch.optim as optim\n",
        "import torchvision\n",
        "from torchvision import datasets\n",
        "from torch.utils.data.sampler import SubsetRandomSampler\n",
        "import torchvision.transforms as transforms\n",
        "import pandas as pd\n",
        "import torchtext.vocab as vocab"
      ],
      "metadata": {
        "id": "VOW6t9utGzuR"
      },
      "execution_count": 1,
      "outputs": []
    },
    {
      "cell_type": "code",
      "source": [
        "essays = pd.read_csv('Training_Essay_Data.csv')\n",
        "print(essays['text'][0])"
      ],
      "metadata": {
        "id": "0bgqKFHwGs8a",
        "colab": {
          "base_uri": "https://localhost:8080/"
        },
        "outputId": "8cc04967-8eb7-4ada-be42-fa7b7d1e2ad2"
      },
      "execution_count": null,
      "outputs": [
        {
          "output_type": "stream",
          "name": "stdout",
          "text": [
            "Car-free cities have become a subject of increasing interest and debate in recent years, as urban areas around the world grapple with the challenges of congestion, pollution, and limited resources. The concept of a car-free city involves creating urban environments where private automobiles are either significantly restricted or completely banned, with a focus on alternative transportation methods and sustainable urban planning. This essay explores the benefits, challenges, and potential solutions associated with the idea of car-free cities.  Benefits of Car-Free Cities  Environmental Sustainability: Car-free cities promote environmental sustainability by reducing air pollution and greenhouse gas emissions. Fewer cars on the road mean cleaner air and a significant decrease in the contribution to global warming.  Improved Public Health: A reduction in automobile usage can lead to better public health outcomes. Fewer cars on the road result in fewer accidents and a safer urban environment for pedestrians and cyclists. Moreover, less air pollution can lead to reduced respiratory and cardiovascular problems.  Efficient Use of Space: Car-free cities utilize urban space more efficiently. Parking lots and wide roads can be repurposed for green spaces, parks, and pedestrian zones, enhancing the overall quality of life in the city.  Reduced Traffic Congestion: By eliminating or restricting car usage, traffic congestion is significantly reduced, leading to faster commute times and less frustration for residents and commuters.  Cost Savings: Car ownership and maintenance can be expensive. Car-free cities allow residents to save money on vehicles, fuel, and insurance, improving their overall financial well-being.  Challenges of Car-Free Cities  Resistance to Change: Transitioning to a car-free city can face resistance from citizens, especially those who rely heavily on their cars for daily activities and commutes.  Public Transportation Infrastructure: An effective public transportation system is crucial for the success of car-free cities. Cities need to invest in and expand their public transportation networks to ensure that people have viable alternatives to cars.  Economic Impact: Businesses that rely on car-dependent customers may experience a decline in revenue in a car-free city. It's essential to address this economic impact and find ways to support affected businesses during the transition.  Urban Planning and Infrastructure: The redesign of urban areas for car-free living requires significant planning and investment in infrastructure, which can be a lengthy and complex process.  Solutions for Car-Free Cities  Expand Public Transportation: Invest in the expansion and improvement of public transportation systems to provide convenient and affordable alternatives to private cars.  Promote Active Transportation: Encourage walking and cycling by building bike lanes, pedestrian-friendly streets, and ensuring safe infrastructure for these activities.  Implement Carpooling and Ride-Sharing: Promote carpooling and ride-sharing services to reduce the number of private vehicles on the road.  Adopt Electric and Sustainable Transportation: Encourage the use of electric vehicles and promote sustainability by using renewable energy sources to power transportation.  Education and Public Awareness: Educate citizens about the benefits of a car-free city and involve them in the planning process to increase support and understanding.  Conclusion  Car-free cities represent a vision for a sustainable and healthier urban future. While the transition to a car-free city is not without challenges, the potential benefits in terms of environmental sustainability, public health, and efficient urban living make it a compelling goal. Through a combination of investment in public transportation, promotion of alternative transportation methods, and public engagement, cities can work towards a future where cars are no longer the dominant mode of transportation. Car-free cities offer a promising vision of a more sustainable and vibrant urban environment.\n"
          ]
        }
      ]
    },
    {
      "cell_type": "markdown",
      "source": [
        "# Removing Conjunctions\n",
        "\n",
        "Removing conjunctions from the essays can help the model focus on more indicative features of human-written essays."
      ],
      "metadata": {
        "id": "bfJNJGSGmWvk"
      }
    },
    {
      "cell_type": "code",
      "source": [
        "conjunctions = ['and', 'but', 'or', 'nor', 'for', 'yet', 'so', 'although',\n",
        "                               'because', 'since', 'while', 'after', 'before', 'when', 'if',\n",
        "                               'unless', 'until', 'whether']"
      ],
      "metadata": {
        "id": "EufSBNfAoNdu"
      },
      "execution_count": null,
      "outputs": []
    },
    {
      "cell_type": "code",
      "source": [
        "def remove_conjunctions(text, conjunctions):\n",
        "  '''\n",
        "  string, list -> string\n",
        "  -\n",
        "  function takes in an essay (string) and list of conjunctions (list) and outputs the input essay with\n",
        "  instances of the conjunctions in the list removed\n",
        "  '''\n",
        "  words = text.split()\n",
        "  words = [word for word in words if word.lower() not in conjunctions]\n",
        "  return ' '.join(words)\n",
        "\n",
        "essays['text'] = essays['text'].apply(lambda x: remove_conjunctions(x, conjunctions))\n",
        "print(essays['text'][0])"
      ],
      "metadata": {
        "colab": {
          "base_uri": "https://localhost:8080/"
        },
        "id": "Oz33ErzMpewP",
        "outputId": "ce9ebef1-da1d-4991-9a1e-8506cfb4c4f9"
      },
      "execution_count": null,
      "outputs": [
        {
          "output_type": "stream",
          "name": "stdout",
          "text": [
            "Car-free cities have become a subject of increasing interest debate in recent years, as urban areas around the world grapple with the challenges of congestion, pollution, limited resources. The concept of a car-free city involves creating urban environments where private automobiles are either significantly restricted completely banned, with a focus on alternative transportation methods sustainable urban planning. This essay explores the benefits, challenges, potential solutions associated with the idea of car-free cities. Benefits of Car-Free Cities Environmental Sustainability: Car-free cities promote environmental sustainability by reducing air pollution greenhouse gas emissions. Fewer cars on the road mean cleaner air a significant decrease in the contribution to global warming. Improved Public Health: A reduction in automobile usage can lead to better public health outcomes. Fewer cars on the road result in fewer accidents a safer urban environment pedestrians cyclists. Moreover, less air pollution can lead to reduced respiratory cardiovascular problems. Efficient Use of Space: Car-free cities utilize urban space more efficiently. Parking lots wide roads can be repurposed green spaces, parks, pedestrian zones, enhancing the overall quality of life in the city. Reduced Traffic Congestion: By eliminating restricting car usage, traffic congestion is significantly reduced, leading to faster commute times less frustration residents commuters. Cost Savings: Car ownership maintenance can be expensive. Car-free cities allow residents to save money on vehicles, fuel, insurance, improving their overall financial well-being. Challenges of Car-Free Cities Resistance to Change: Transitioning to a car-free city can face resistance from citizens, especially those who rely heavily on their cars daily activities commutes. Public Transportation Infrastructure: An effective public transportation system is crucial the success of car-free cities. Cities need to invest in expand their public transportation networks to ensure that people have viable alternatives to cars. Economic Impact: Businesses that rely on car-dependent customers may experience a decline in revenue in a car-free city. It's essential to address this economic impact find ways to support affected businesses during the transition. Urban Planning Infrastructure: The redesign of urban areas car-free living requires significant planning investment in infrastructure, which can be a lengthy complex process. Solutions Car-Free Cities Expand Public Transportation: Invest in the expansion improvement of public transportation systems to provide convenient affordable alternatives to private cars. Promote Active Transportation: Encourage walking cycling by building bike lanes, pedestrian-friendly streets, ensuring safe infrastructure these activities. Implement Carpooling Ride-Sharing: Promote carpooling ride-sharing services to reduce the number of private vehicles on the road. Adopt Electric Sustainable Transportation: Encourage the use of electric vehicles promote sustainability by using renewable energy sources to power transportation. Education Public Awareness: Educate citizens about the benefits of a car-free city involve them in the planning process to increase support understanding. Conclusion Car-free cities represent a vision a sustainable healthier urban future. the transition to a car-free city is not without challenges, the potential benefits in terms of environmental sustainability, public health, efficient urban living make it a compelling goal. Through a combination of investment in public transportation, promotion of alternative transportation methods, public engagement, cities can work towards a future where cars are no longer the dominant mode of transportation. Car-free cities offer a promising vision of a more sustainable vibrant urban environment.\n"
          ]
        }
      ]
    },
    {
      "cell_type": "markdown",
      "source": [
        "# Add Character and Word Count Columns"
      ],
      "metadata": {
        "id": "dYDHyCQ0YzYm"
      }
    },
    {
      "cell_type": "code",
      "source": [
        "#augment 'essays' dataframe to include two new columns\n",
        "characterLengths_train = essays['text'].str.len()\n",
        "wordLengths_train = essays['text'].str.split().str.len()\n",
        "essays['numChars'] = characterLengths_train\n",
        "essays['numWords'] = wordLengths_train\n",
        "\n",
        "#create statistics for plotting later\n",
        "data = essays['numWords']\n",
        "word_count_frequency = data.value_counts()\n",
        "word_counts = word_count_frequency.index.sort_values()\n",
        "frequencies = [word_count_frequency[word_count] for word_count in word_counts]\n",
        "\n",
        "essays.head()"
      ],
      "metadata": {
        "colab": {
          "base_uri": "https://localhost:8080/",
          "height": 206
        },
        "id": "17w8tT6cG3BN",
        "outputId": "2d08b1e2-540c-4878-d8d6-d9edbd8cbef6"
      },
      "execution_count": null,
      "outputs": [
        {
          "output_type": "execute_result",
          "data": {
            "text/plain": [
              "                                                text  generated  numChars  \\\n",
              "0  Car-free cities have become a subject of incre...          1      3880   \n",
              "1  Car Free Cities Car-free cities, a concept gai...          1      3570   \n",
              "2  A Sustainable Urban Future Car-free cities are...          1      3647   \n",
              "3  Pioneering Sustainable Urban Living In an era ...          1      3584   \n",
              "4  The Path to Sustainable Urban Living In an age...          1      3543   \n",
              "\n",
              "   numWords  \n",
              "0       527  \n",
              "1       470  \n",
              "2       471  \n",
              "3       484  \n",
              "4       476  "
            ],
            "text/html": [
              "\n",
              "  <div id=\"df-292667a9-d06e-4816-a597-1b8f42b81ad4\" class=\"colab-df-container\">\n",
              "    <div>\n",
              "<style scoped>\n",
              "    .dataframe tbody tr th:only-of-type {\n",
              "        vertical-align: middle;\n",
              "    }\n",
              "\n",
              "    .dataframe tbody tr th {\n",
              "        vertical-align: top;\n",
              "    }\n",
              "\n",
              "    .dataframe thead th {\n",
              "        text-align: right;\n",
              "    }\n",
              "</style>\n",
              "<table border=\"1\" class=\"dataframe\">\n",
              "  <thead>\n",
              "    <tr style=\"text-align: right;\">\n",
              "      <th></th>\n",
              "      <th>text</th>\n",
              "      <th>generated</th>\n",
              "      <th>numChars</th>\n",
              "      <th>numWords</th>\n",
              "    </tr>\n",
              "  </thead>\n",
              "  <tbody>\n",
              "    <tr>\n",
              "      <th>0</th>\n",
              "      <td>Car-free cities have become a subject of incre...</td>\n",
              "      <td>1</td>\n",
              "      <td>3880</td>\n",
              "      <td>527</td>\n",
              "    </tr>\n",
              "    <tr>\n",
              "      <th>1</th>\n",
              "      <td>Car Free Cities Car-free cities, a concept gai...</td>\n",
              "      <td>1</td>\n",
              "      <td>3570</td>\n",
              "      <td>470</td>\n",
              "    </tr>\n",
              "    <tr>\n",
              "      <th>2</th>\n",
              "      <td>A Sustainable Urban Future Car-free cities are...</td>\n",
              "      <td>1</td>\n",
              "      <td>3647</td>\n",
              "      <td>471</td>\n",
              "    </tr>\n",
              "    <tr>\n",
              "      <th>3</th>\n",
              "      <td>Pioneering Sustainable Urban Living In an era ...</td>\n",
              "      <td>1</td>\n",
              "      <td>3584</td>\n",
              "      <td>484</td>\n",
              "    </tr>\n",
              "    <tr>\n",
              "      <th>4</th>\n",
              "      <td>The Path to Sustainable Urban Living In an age...</td>\n",
              "      <td>1</td>\n",
              "      <td>3543</td>\n",
              "      <td>476</td>\n",
              "    </tr>\n",
              "  </tbody>\n",
              "</table>\n",
              "</div>\n",
              "    <div class=\"colab-df-buttons\">\n",
              "\n",
              "  <div class=\"colab-df-container\">\n",
              "    <button class=\"colab-df-convert\" onclick=\"convertToInteractive('df-292667a9-d06e-4816-a597-1b8f42b81ad4')\"\n",
              "            title=\"Convert this dataframe to an interactive table.\"\n",
              "            style=\"display:none;\">\n",
              "\n",
              "  <svg xmlns=\"http://www.w3.org/2000/svg\" height=\"24px\" viewBox=\"0 -960 960 960\">\n",
              "    <path d=\"M120-120v-720h720v720H120Zm60-500h600v-160H180v160Zm220 220h160v-160H400v160Zm0 220h160v-160H400v160ZM180-400h160v-160H180v160Zm440 0h160v-160H620v160ZM180-180h160v-160H180v160Zm440 0h160v-160H620v160Z\"/>\n",
              "  </svg>\n",
              "    </button>\n",
              "\n",
              "  <style>\n",
              "    .colab-df-container {\n",
              "      display:flex;\n",
              "      gap: 12px;\n",
              "    }\n",
              "\n",
              "    .colab-df-convert {\n",
              "      background-color: #E8F0FE;\n",
              "      border: none;\n",
              "      border-radius: 50%;\n",
              "      cursor: pointer;\n",
              "      display: none;\n",
              "      fill: #1967D2;\n",
              "      height: 32px;\n",
              "      padding: 0 0 0 0;\n",
              "      width: 32px;\n",
              "    }\n",
              "\n",
              "    .colab-df-convert:hover {\n",
              "      background-color: #E2EBFA;\n",
              "      box-shadow: 0px 1px 2px rgba(60, 64, 67, 0.3), 0px 1px 3px 1px rgba(60, 64, 67, 0.15);\n",
              "      fill: #174EA6;\n",
              "    }\n",
              "\n",
              "    .colab-df-buttons div {\n",
              "      margin-bottom: 4px;\n",
              "    }\n",
              "\n",
              "    [theme=dark] .colab-df-convert {\n",
              "      background-color: #3B4455;\n",
              "      fill: #D2E3FC;\n",
              "    }\n",
              "\n",
              "    [theme=dark] .colab-df-convert:hover {\n",
              "      background-color: #434B5C;\n",
              "      box-shadow: 0px 1px 3px 1px rgba(0, 0, 0, 0.15);\n",
              "      filter: drop-shadow(0px 1px 2px rgba(0, 0, 0, 0.3));\n",
              "      fill: #FFFFFF;\n",
              "    }\n",
              "  </style>\n",
              "\n",
              "    <script>\n",
              "      const buttonEl =\n",
              "        document.querySelector('#df-292667a9-d06e-4816-a597-1b8f42b81ad4 button.colab-df-convert');\n",
              "      buttonEl.style.display =\n",
              "        google.colab.kernel.accessAllowed ? 'block' : 'none';\n",
              "\n",
              "      async function convertToInteractive(key) {\n",
              "        const element = document.querySelector('#df-292667a9-d06e-4816-a597-1b8f42b81ad4');\n",
              "        const dataTable =\n",
              "          await google.colab.kernel.invokeFunction('convertToInteractive',\n",
              "                                                    [key], {});\n",
              "        if (!dataTable) return;\n",
              "\n",
              "        const docLinkHtml = 'Like what you see? Visit the ' +\n",
              "          '<a target=\"_blank\" href=https://colab.research.google.com/notebooks/data_table.ipynb>data table notebook</a>'\n",
              "          + ' to learn more about interactive tables.';\n",
              "        element.innerHTML = '';\n",
              "        dataTable['output_type'] = 'display_data';\n",
              "        await google.colab.output.renderOutput(dataTable, element);\n",
              "        const docLink = document.createElement('div');\n",
              "        docLink.innerHTML = docLinkHtml;\n",
              "        element.appendChild(docLink);\n",
              "      }\n",
              "    </script>\n",
              "  </div>\n",
              "\n",
              "\n",
              "<div id=\"df-7dee22a5-dd49-460f-a062-0308bdd35288\">\n",
              "  <button class=\"colab-df-quickchart\" onclick=\"quickchart('df-7dee22a5-dd49-460f-a062-0308bdd35288')\"\n",
              "            title=\"Suggest charts\"\n",
              "            style=\"display:none;\">\n",
              "\n",
              "<svg xmlns=\"http://www.w3.org/2000/svg\" height=\"24px\"viewBox=\"0 0 24 24\"\n",
              "     width=\"24px\">\n",
              "    <g>\n",
              "        <path d=\"M19 3H5c-1.1 0-2 .9-2 2v14c0 1.1.9 2 2 2h14c1.1 0 2-.9 2-2V5c0-1.1-.9-2-2-2zM9 17H7v-7h2v7zm4 0h-2V7h2v10zm4 0h-2v-4h2v4z\"/>\n",
              "    </g>\n",
              "</svg>\n",
              "  </button>\n",
              "\n",
              "<style>\n",
              "  .colab-df-quickchart {\n",
              "      --bg-color: #E8F0FE;\n",
              "      --fill-color: #1967D2;\n",
              "      --hover-bg-color: #E2EBFA;\n",
              "      --hover-fill-color: #174EA6;\n",
              "      --disabled-fill-color: #AAA;\n",
              "      --disabled-bg-color: #DDD;\n",
              "  }\n",
              "\n",
              "  [theme=dark] .colab-df-quickchart {\n",
              "      --bg-color: #3B4455;\n",
              "      --fill-color: #D2E3FC;\n",
              "      --hover-bg-color: #434B5C;\n",
              "      --hover-fill-color: #FFFFFF;\n",
              "      --disabled-bg-color: #3B4455;\n",
              "      --disabled-fill-color: #666;\n",
              "  }\n",
              "\n",
              "  .colab-df-quickchart {\n",
              "    background-color: var(--bg-color);\n",
              "    border: none;\n",
              "    border-radius: 50%;\n",
              "    cursor: pointer;\n",
              "    display: none;\n",
              "    fill: var(--fill-color);\n",
              "    height: 32px;\n",
              "    padding: 0;\n",
              "    width: 32px;\n",
              "  }\n",
              "\n",
              "  .colab-df-quickchart:hover {\n",
              "    background-color: var(--hover-bg-color);\n",
              "    box-shadow: 0 1px 2px rgba(60, 64, 67, 0.3), 0 1px 3px 1px rgba(60, 64, 67, 0.15);\n",
              "    fill: var(--button-hover-fill-color);\n",
              "  }\n",
              "\n",
              "  .colab-df-quickchart-complete:disabled,\n",
              "  .colab-df-quickchart-complete:disabled:hover {\n",
              "    background-color: var(--disabled-bg-color);\n",
              "    fill: var(--disabled-fill-color);\n",
              "    box-shadow: none;\n",
              "  }\n",
              "\n",
              "  .colab-df-spinner {\n",
              "    border: 2px solid var(--fill-color);\n",
              "    border-color: transparent;\n",
              "    border-bottom-color: var(--fill-color);\n",
              "    animation:\n",
              "      spin 1s steps(1) infinite;\n",
              "  }\n",
              "\n",
              "  @keyframes spin {\n",
              "    0% {\n",
              "      border-color: transparent;\n",
              "      border-bottom-color: var(--fill-color);\n",
              "      border-left-color: var(--fill-color);\n",
              "    }\n",
              "    20% {\n",
              "      border-color: transparent;\n",
              "      border-left-color: var(--fill-color);\n",
              "      border-top-color: var(--fill-color);\n",
              "    }\n",
              "    30% {\n",
              "      border-color: transparent;\n",
              "      border-left-color: var(--fill-color);\n",
              "      border-top-color: var(--fill-color);\n",
              "      border-right-color: var(--fill-color);\n",
              "    }\n",
              "    40% {\n",
              "      border-color: transparent;\n",
              "      border-right-color: var(--fill-color);\n",
              "      border-top-color: var(--fill-color);\n",
              "    }\n",
              "    60% {\n",
              "      border-color: transparent;\n",
              "      border-right-color: var(--fill-color);\n",
              "    }\n",
              "    80% {\n",
              "      border-color: transparent;\n",
              "      border-right-color: var(--fill-color);\n",
              "      border-bottom-color: var(--fill-color);\n",
              "    }\n",
              "    90% {\n",
              "      border-color: transparent;\n",
              "      border-bottom-color: var(--fill-color);\n",
              "    }\n",
              "  }\n",
              "</style>\n",
              "\n",
              "  <script>\n",
              "    async function quickchart(key) {\n",
              "      const quickchartButtonEl =\n",
              "        document.querySelector('#' + key + ' button');\n",
              "      quickchartButtonEl.disabled = true;  // To prevent multiple clicks.\n",
              "      quickchartButtonEl.classList.add('colab-df-spinner');\n",
              "      try {\n",
              "        const charts = await google.colab.kernel.invokeFunction(\n",
              "            'suggestCharts', [key], {});\n",
              "      } catch (error) {\n",
              "        console.error('Error during call to suggestCharts:', error);\n",
              "      }\n",
              "      quickchartButtonEl.classList.remove('colab-df-spinner');\n",
              "      quickchartButtonEl.classList.add('colab-df-quickchart-complete');\n",
              "    }\n",
              "    (() => {\n",
              "      let quickchartButtonEl =\n",
              "        document.querySelector('#df-7dee22a5-dd49-460f-a062-0308bdd35288 button');\n",
              "      quickchartButtonEl.style.display =\n",
              "        google.colab.kernel.accessAllowed ? 'block' : 'none';\n",
              "    })();\n",
              "  </script>\n",
              "</div>\n",
              "\n",
              "    </div>\n",
              "  </div>\n"
            ],
            "application/vnd.google.colaboratory.intrinsic+json": {
              "type": "dataframe",
              "variable_name": "essays",
              "summary": "{\n  \"name\": \"essays\",\n  \"rows\": 29145,\n  \"fields\": [\n    {\n      \"column\": \"text\",\n      \"properties\": {\n        \"dtype\": \"string\",\n        \"num_unique_values\": 27282,\n        \"samples\": [\n          \"\\\"The Challenge of Exploring Venus,\\\" is an article that discusses the idea of exploring Venus as a worthy pursuit despite the dangers it presents. The author does a great job of providing evidence to support this idea. Firstly, the author explains that Venus is the closest planet to Earth, making it a logical choice exploration. The author also notes that Venus has a similar size composition to Earth, which could provide valuable information about our own planet. Additionally, the author mentions that Venus has a thick atmosphere that could potentially support life, making it an exciting target exploration. However, the author also acknowledges the dangers of exploring Venus. The planet's extreme temperatures, toxic atmosphere, harsh conditions would make it a challenging dangerous mission. Despite these challenges, the author argues that the potential benefits outweigh the risks. In conclusion, the author effectively supports the idea that exploring Venus is a worthy pursuit despite the dangers. The evidence presented, such as Venus's proximity to Earth, similar composition, potential life, provides a compelling argument exploring this planet. there are certainly risks involved, the potential benefits make it a worthwhile endeavor.\",\n          \"Title: The Case Limited Car Usage: Improving Environmental Urban Health The advantages of limiting car usage are manifold, promoting healthier societies as well as a more sustainable environment. The experiences of cities such as Vauban in Germany, Paris, Bogota, in conjunction with emerging attitudes in the United States towards car ownership, underscore these benefits. To understand the primary driver behind this shift, one must consider environmental concerns. Cars are a major source of greenhouse gas emissions; passenger cars account 12 percent of such emissions in Europe up to 50 percent in some areas in the U.S. (Rosenthal, \\\"In German Suburb\\\"). In order to curb these harmful emissions, some urban areas have started planning smart, low-car suburbs with limited parking spaces improved access to public transportation. Vauban, a suburb in Germany, instance, has successfully executed this model, with 70 percent of its residents opting not to own cars (Rosenthal, \\\"In German Suburb\\\"). The experience of Paris offers a stark cautionary tale of high car dependency. In response to a severe smog crisis, the French capital had to enforce a partial driving ban, causing considerable disruption resulting in a significant decrease in air pollution (Duffer). The driving ban also underscored the potentially salutary effects of limiting car usage on urban air quality, as seen in other cities as well. As Colombians have demonstrated, limiting car usage doesn\\u2019t mean giving up a mobile lifestyle entirely. During Bogota\\u2019s \\u201cDay Without Cars,\\u201d millions of residents turned to bikes public transportation commuting, effectively reducing air pollutants promoting physical health community solidarity (Selsky). Meanwhile, in the United States, a cultural shift appears to be under way with increasing numbers of Americans buying fewer cars driving less frequently (Rosenthal, \\\"The End of Car Culture\\\"). This cultural change isn't solely rooted in environmental concerns; improved urban planning, the rise in telecommuting, better access to public transportation have also contributed to the shift (Rosenthal, \\\"The End of Car Culture\\\"). All these examples underline the multiple advantages of limiting car usage. Not only does this lead to a reduction in greenhouse gas emissions, it also fosters healthier, more vibrant urban communities. By making the choice to drive less, citizens can contribute to the well-being of their cities the planet, encouraging a sustainable lifestyle the future generations. By supporting policies that promote alternative modes of transportation planning smart, low-car suburban lives, we can accelerate this beneficial transition. In the balance are not just our suburbs cities also the planet's future.\",\n          \"Not many notice how electoral college is important even it has some flaws. This voting system is a great way to determine the final results to see who becomes the president. Besides having an electoral college we have a popular vote it always turns out to be the president with less votes, as it states in the passage \\\"it is entirely possible that the winner of the electoral vote will not win the national popular vote.\\\" The electoral college consists of 538 electors, from that 538 votes 270 electoral votes is required to elect the president, appearentley people belive that electoral college is unfair. In the passage it states \\\"At the most basic level, the electoral college is unfair to voters of the winner-take-all system in each state,\\\" many can tell from reading this that many people are hating the electoral college idea. Electoral college may be unfair it does chooes the president even they add a popular vote which would out rule the electoral college. In this case we were to of had popular vote instead of electoral college than it would be even more difficult than electoral college. ever using popular vote to determine the president than the process it isnt long; this system is unfair too of the people choosing the president of the words lies it says. What we need is to have electoral college to determine the candidate is fit to be the president by not saying lies from saying things that will actually improve the lives of others. Why cant people just vote normally, why is there even an electoral college, why do they make us vote even there's gonna be an electoral collegeor popular vote which is gonna decide us. many questions that have to be asked answered; theres not many people that understand what the electoral college is for, people also understand is how unfair it is to the people that vote.\\\"The American people should consider themselves lucky that the 2000 fiasco was the biggest election crisis in a century; the system allows much worse.\\\" appearentley there was a crisis including the electoral college, we still kept this system even the crisis barely happened in 2000.\"\n        ],\n        \"semantic_type\": \"\",\n        \"description\": \"\"\n      }\n    },\n    {\n      \"column\": \"generated\",\n      \"properties\": {\n        \"dtype\": \"number\",\n        \"std\": 0,\n        \"min\": 0,\n        \"max\": 1,\n        \"num_unique_values\": 2,\n        \"samples\": [\n          0,\n          1\n        ],\n        \"semantic_type\": \"\",\n        \"description\": \"\"\n      }\n    },\n    {\n      \"column\": \"numChars\",\n      \"properties\": {\n        \"dtype\": \"number\",\n        \"std\": 940,\n        \"min\": 1,\n        \"max\": 8396,\n        \"num_unique_values\": 4241,\n        \"samples\": [\n          1968,\n          2527\n        ],\n        \"semantic_type\": \"\",\n        \"description\": \"\"\n      }\n    },\n    {\n      \"column\": \"numWords\",\n      \"properties\": {\n        \"dtype\": \"number\",\n        \"std\": 160,\n        \"min\": 1,\n        \"max\": 1497,\n        \"num_unique_values\": 973,\n        \"samples\": [\n          691,\n          187\n        ],\n        \"semantic_type\": \"\",\n        \"description\": \"\"\n      }\n    }\n  ]\n}"
            }
          },
          "metadata": {},
          "execution_count": 6
        }
      ]
    },
    {
      "cell_type": "markdown",
      "source": [
        "# Visualize Data Set, Trim\n",
        "We want to gain an understanding of the spread of our dataset in terms of the word counts of the essays. We can graph the distribution and conduct exploratory data analysis to determine appropriate thresholds for word count."
      ],
      "metadata": {
        "id": "q0K_Atn5LGc-"
      }
    },
    {
      "cell_type": "code",
      "source": [
        "# Create a bar chart using Matplotlib\n",
        "plt.figure(figsize=(10, 6))\n",
        "plt.bar(word_counts, frequencies, color='skyblue')\n",
        "\n",
        "plt.xlabel('Word Count')\n",
        "plt.ylabel('Frequency')\n",
        "plt.title('Frequency of Word Counts in the Dataset')\n",
        "\n",
        "plt.xticks(range(0, max(word_counts)+1, 50), fontsize = 6)\n",
        "\n",
        "plt.tight_layout()\n",
        "plt.show()"
      ],
      "metadata": {
        "colab": {
          "base_uri": "https://localhost:8080/",
          "height": 607
        },
        "id": "CPHu5l7-Hrn1",
        "outputId": "03ca14bd-16f1-480c-c89e-f095caf9c6f0"
      },
      "execution_count": null,
      "outputs": [
        {
          "output_type": "display_data",
          "data": {
            "text/plain": [
              "<Figure size 1000x600 with 1 Axes>"
            ],
            "image/png": "[encoded data removed]"
          },
          "metadata": {}
        }
      ]
    },
    {
      "cell_type": "code",
      "source": [
        "print(len(essays)) #number of essays"
      ],
      "metadata": {
        "colab": {
          "base_uri": "https://localhost:8080/"
        },
        "id": "AI8rwXO8LxhR",
        "outputId": "594a3b3a-e066-44ea-a94b-1e88011919dd"
      },
      "execution_count": null,
      "outputs": [
        {
          "output_type": "stream",
          "name": "stdout",
          "text": [
            "29145\n"
          ]
        }
      ]
    },
    {
      "cell_type": "code",
      "source": [
        "# pick upper and lower limits for the word counts of essays in the dataset on inspection of the chart\n",
        "max_length = 500\n",
        "min_length = 200\n",
        "\n",
        "above_lim = len(essays[essays['numWords'] > max_length])\n",
        "below_lim = len(essays[essays['numWords'] < min_length])\n",
        "\n",
        "print(\"Number of essays with word count greater than\", max_length, \":\", above_lim)\n",
        "print(\"Number of essays with word count lower than\", min_length, \":\", below_lim)"
      ],
      "metadata": {
        "colab": {
          "base_uri": "https://localhost:8080/"
        },
        "id": "1blWiGc3UleY",
        "outputId": "9f80fab7-b59f-4fa9-8322-105194507833"
      },
      "execution_count": null,
      "outputs": [
        {
          "output_type": "stream",
          "name": "stdout",
          "text": [
            "Number of essays with word count greater than 500 : 4806\n",
            "Number of essays with word count lower than 200 : 4367\n"
          ]
        }
      ]
    },
    {
      "cell_type": "code",
      "source": [
        "# Filter out essays with word counts outside upper and lower limits from before\n",
        "filtered_essays = essays[(essays['numWords'] >= min_length) & (essays['numWords'] <= max_length)]\n",
        "print(len(filtered_essays))\n",
        "print(filtered_essays[['generated']].sum())"
      ],
      "metadata": {
        "colab": {
          "base_uri": "https://localhost:8080/"
        },
        "id": "10t0ORzUaVsI",
        "outputId": "e77e95f9-f15e-4780-de27-070611cf97c6"
      },
      "execution_count": null,
      "outputs": [
        {
          "output_type": "stream",
          "name": "stdout",
          "text": [
            "19972\n",
            "generated    8274\n",
            "dtype: int64\n"
          ]
        }
      ]
    },
    {
      "cell_type": "markdown",
      "source": [
        "# Converting Essays to respective GloVe Indices\n",
        "All essays need to be converted to their GloVe indices so that their embeddings can be found during the forward pass. To simplify this task, all punctuation was removed from the essays as they do not have a GloVe embedding and punctuation likely will not impact our results significantly. All essays were padded to become the same length."
      ],
      "metadata": {
        "id": "QDBP5rSC7zSh"
      }
    },
    {
      "cell_type": "code",
      "source": [
        "import string\n",
        "# Function to remove punctuation from a string\n",
        "def remove_punctuation(text):\n",
        "    return ''.join(char for char in text if char not in string.punctuation)"
      ],
      "metadata": {
        "id": "XvV6-6n13YzX"
      },
      "execution_count": null,
      "outputs": []
    },
    {
      "cell_type": "code",
      "source": [
        "# cleaning provided all essays & truths in \"filtered_essays\" and max length of our set of essays in \"max_length\"\n",
        "\n",
        "# Step 1: extract the essays and the ground truths from the file (stored in \"filtered_essays\" after cleaning)\n",
        "essays_with_punctuation = filtered_essays['text'].tolist()  # Essays column\n",
        "essays = [remove_punctuation(essay) for essay in essays_with_punctuation]\n",
        "ground_truths = filtered_essays['generated'].tolist()  # Ground truths column\n",
        "\n",
        "# Step 2: Load Pre-trained GloVe Embeddings\n",
        "glove_embeddings = vocab.GloVe(name='6B', dim=100)\n",
        "\n",
        "# Step 3: Build a dictionary to hold the vocabulary and each word's GloVe Index\n",
        "word_to_glove_index = {}\n",
        "for essay in essays:\n",
        "    words = essay.lower().split()  # Tokenize and convert to lowercase\n",
        "    for word in words:\n",
        "        # Check if the word is not punctuation, is in GloVe embeddings, and not already in the vocabulary\n",
        "        if word in glove_embeddings.stoi and word not in word_to_glove_index:\n",
        "            word_to_glove_index[word] = glove_embeddings.stoi[word]\n",
        "\n",
        "# Step 4: Convert essays to sequences of corresponding GloVe indices\n",
        "indexed_essays = []\n",
        "for essay in essays:\n",
        "    words = essay.lower().split()  # Tokenize and convert to lowercase\n",
        "    essay_as_indices = [word_to_glove_index.get(word, -1) for word in words]  # Get GloVe index for each word\n",
        "    indexed_essays.append(essay_as_indices)\n",
        "\n",
        "# Step 5: Pad sequences to ensure they have the same length, max length stored in max_length from cleaning\n",
        "padded_essays = [essay_as_indices + [0] * (max_length - len(essay_as_indices)) for essay_as_indices in indexed_essays]  # Padding with zeros (assuming index 0 is for padding)\n",
        "\n",
        "# Step 6: Convert to PyTorch tensor\n",
        "essays_tensor = torch.tensor(padded_essays, dtype=torch.long)\n",
        "labels_tensor = torch.tensor(ground_truths, dtype=torch.long)\n",
        "print(essays_tensor.shape)\n",
        "\n",
        "# Step 7: combined the processed essays with the ground truths\n",
        "dataset = torch.utils.data.TensorDataset(essays_tensor, labels_tensor)\n",
        "\n",
        "# Step 8: split the data into the different sets\n",
        "num_essays = essays_tensor.size(0) # Total number of essays\n",
        "\n",
        "# Calculate the number of essays for each set based on percentages: 70%, 15%, 15%\n",
        "train_size = int(num_essays * 0.7)\n",
        "val_size = int(num_essays * 0.15)\n",
        "test_size = num_essays - train_size - val_size  # Ensure balanced splitting\n",
        "\n",
        "train_set, val_set, test_set = torch.utils.data.random_split(dataset, [train_size, val_size, test_size])\n",
        "\n",
        "# Define batch size\n",
        "batch_size = 64\n",
        "\n",
        "# Create data loaders\n",
        "train_loader = torch.utils.data.DataLoader(train_set, batch_size=batch_size, shuffle=True)\n",
        "val_loader = torch.utils.data.DataLoader(val_set, batch_size=batch_size)\n",
        "test_loader = torch.utils.data.DataLoader(test_set, batch_size=batch_size)\n",
        "\n",
        "vocab_size = glove_embeddings.vectors.size(0)\n",
        "\n"
      ],
      "metadata": {
        "id": "KW4gtW_UaoSo",
        "colab": {
          "base_uri": "https://localhost:8080/"
        },
        "outputId": "a59102f3-8c0b-45e1-a8bb-12d19c2bab26"
      },
      "execution_count": null,
      "outputs": [
        {
          "output_type": "stream",
          "name": "stdout",
          "text": [
            "torch.Size([19972, 500])\n"
          ]
        }
      ]
    },
    {
      "cell_type": "markdown",
      "source": [
        "# Testing the Processing\n",
        "To test if the essays were processed correctly, we printed an essay from the data set (at this point, punctuation has been removed but haven't turned all upper case to lower case yet) and then took the index version of the same essay and converted it back from indices to words using GloVe mapping. The converted version should match the essay, and it does which signifies processing was done correctly."
      ],
      "metadata": {
        "id": "YVNSZqbI9xhi"
      }
    },
    {
      "cell_type": "code",
      "source": [
        "# should test this by printing out an essay and then printing out the processed index version\n",
        "# and then using the GloVe library, get the word matching that index to check if output = input\n",
        "\n",
        "# Retrieve the first essay (in words) from the essays list\n",
        "test_essay = essays[0]\n",
        "\n",
        "# Retrieve the first essay converted into indices and then back into words using the GloVe embeddings\n",
        "test_indexed_essay = indexed_essays[0]\n",
        "print(\"Essay in Index form:\", test_indexed_essay)\n",
        "\n",
        "# convert the keys of glove_embeddings to a list so we can index through it\n",
        "# Access individual words and their embeddings\n",
        "glove_words = glove_embeddings.itos  # List of words\n",
        "glove_word_vectors = glove_embeddings.vectors  # Tensor of word vectors\n",
        "glove_words_list = list(glove_words)\n",
        "\n",
        "# Convert the indices back to words using GloVe embeddings\n",
        "test_index_essay_to_words = []\n",
        "for index in test_indexed_essay:\n",
        "    if index == -1: continue   # skip unknown words\n",
        "    elif index == 0: break  # once we reach the padding, no more words to convert\n",
        "\n",
        "    word = glove_words_list[index]  # Get the word corresponding to the index\n",
        "    test_index_essay_to_words.append(word)\n",
        "\n",
        "\n",
        "# Print and compare the original and converted essays\n",
        "print(\"Original Essay (in words):\", test_essay)\n",
        "print(\"Converted Essay (in words):\", test_index_essay_to_words)\n"
      ],
      "metadata": {
        "colab": {
          "base_uri": "https://localhost:8080/"
        },
        "id": "Sh8mnEZdwf78",
        "outputId": "2e23ffeb-b913-44cb-8417-fd402c366e45"
      },
      "execution_count": null,
      "outputs": [
        {
          "output_type": "stream",
          "name": "stdout",
          "text": [
            "Essay in Index form: [569, 415, 1183, 325006, 1183, 7, 2986, 5195, 14669, 6, 3226, 2227, 1555, 1762, 4, 8216, 0, 179, 53, 682, 17949, 12574, 17, 162, 13872, 158, 1183, 21673, 7, 581, 111, 672, 11571, 32, 900, 5416, 5595, 2215, 4505, 25, 2227, 14054, 433, 927, 2488, 13930, 3, 2268, 989, 7410, 5554, 756, 6, 37, 9559, 53, 43, 6167, 0, 917, 4404, 3, 325006, 1183, 144, 44, 1913, 3000, 1156, 4800, 0, 1159, 3, 325006, 1183, 9614, 25, 7, 988, 5418, 3, 0, 2563, 3996, 3, -1, 2227, 1555, 13382, 325, 4570, 0, 18271, 1506, 3, 214, 6, 5700, 14844, -1, 1736, 33, 3511, 2227, 11797, 4, 1762, 8317, 325006, 1183, 901, 201, 8040, 1697, 14608, 21, 3859, 0, 223, 3, 1634, 13, 0, 586, 325006, 1183, 3542, 6748, 325, 4570, 6704, 851, 4250, 37, 1065, 1811, 1697, 14608, 3663, 2076, 1948, 511, 37166, 12326, 16160, 2227, 11066, 198, 360, 3169, 1277, 13, 0, 586, 1702, 3169, 5367, 7, 7861, 1557, 17190, 15300, 6551, 0, 3485, 6, 325, 4570, 604, 6, 2338, 8306, 16554, 360, 115, 19032, 4810, 863, 17572, 325006, 1183, 33062, 2227, 863, 7379, 4625, 4231, 1260, 2539, 86, 30, 87845, 4008, 989, 7410, 13519, 5501, 9228, 0, 1250, 1506, 3, 214, 2157, 1596, 13382, 440, 9166, 13, 672, 1277, 2390, 4, 2157, 1596, 13382, 7010, 17949, 246, 440, 4134, 1048, 13955, 772, 3662, 13003, 4945, 7, 569, 86, 30, 2921, 325006, 1183, 949, 1048, 4, 1753, 308, 13, 1907, 2502, 1397, 1431, 7880, 3568, 44, 395, 49911, 212, 44122, 4, 325006, 1183, 6157, 47, 261, 208, 3, 3000, 2665, 4, 511, 109, 69, 2267, 5656, 13, 44, 1277, 777, 1218, 39136, 44122, 4, 325006, 756, 86, 621, 2665, 25, 155, 38, 1655, 0, 866, 3, 9758, 5235, 198, 2268, 2951, 2037, 198, 2268, 1148, 32, 1626, 0, 1045, 3, 325006, 1183, 3104, 5472, 6, 198, 4562, 32, 1504, 4, 761, 11097, 8317, 4, 672, 1277, 251, 1433, 1591, 12, 5656, 13, -1, 1661, 107, 1221, 5232, 1651, 5592, 37, 251, 1433, 2534, 2085, 1591, 105, 0, 3669, 14, 3720, 2227, 1555, 2951, 52999, 2227, 619, 325006, 756, 2279, 3782, 1555, 3667, 783, 6, 2951, 42, 86, 30, 7, 1688, 6882, 546, 4800, 0, 1299, 3982, 3, 325006, 1183, 488, 4185, 198, 2268, 3857, 1546, 2268, 4909, 104973, 343397, 9642, 2371, 5554, 2268, 5038, 13, 198, 631, 5418, 6, 4483, 325006, 1183, 2876, 7, 4757, 3138, 7, 56, 5554, 3305, 2227, 581, 3000, 3604, 0, 1156, 1913, 6, 1079, 3, 1697, 14608, 198, 360, 4810, 2227, 756, 772, 3662, 159, 20, 7, 8537, 715, 21, 6795, 6, 198, 2268, 3857, 2488, 2268, 3529, 2374, 0, 198, 6, 0, 1555, 546, 1183, 86, 161, 981, 7, 581, 111, 1277, 32, 84, 1078, 0, 4860, 5711, 3, 2268, 325006, 1183, 901, 7, 4757, 3138, 3, 7, 56, 5554, 12626, 2227, 1557]\n",
            "Original Essay (in words): Car Free Cities Carfree cities a concept gaining traction in contemporary urban planning seek to transform the way we live commute interact with our surroundings These cities envision a future where private automobiles are either severely restricted completely eliminated from urban landscapes making room alternative modes of transportation green spaces sustainable living In this essay we will explore the various aspects of carfree cities including their benefits challenges potential solutions The idea of carfree cities stems from a growing awareness of the negative consequences of carcentric urban planning Congestion air pollution the diminishing quality of life in crowded noisy carinfested streets have prompted urban planners to seek alternatives Carfree cities offer several advantages Environmental Sustainability By reducing the number of vehicles on the road carfree cities significantly decrease air pollution greenhouse gas emissions This step towards environmental sustainability helps combat climate change fosters cleaner healthier urban environments Public Health Fewer cars on the road mean fewer accidents a safer environment pedestrians cyclists Additionally the reduction in air pollution results in improved respiratory cardiovascular health city dwellers Efficient Space Utilization Carfree cities optimize urban space usage Parking lots wide roads can be repurposed parks green spaces pedestrian zones enhancing the overall quality of life Reduced Traffic Congestion Less reliance on private cars leads to reduced traffic congestion shorter commute times less stress residents commuters Cost Savings Owning maintaining a car can be expensive Carfree cities allow residents to save money on vehicle purchase fuel insurance thereby improving their financial wellbeing However transitioning to carfree cities presents its own set of challenges Resistance to Change Many people heavily rely on their cars daily activities commutes Transitioning to carfree living can face resistance from those who fear the loss of convenience autonomy Public Transportation Infrastructure Effective public transportation systems are critical the success of carfree cities Investments improvements in public transit are necessary to provide convenient alternatives to private cars Economic Impact Businesses that rely on cardependent customers may experience declining revenue Addressing this economic impact supporting affected businesses during the transition is essential Urban Planning Infrastructure Redesigning urban areas carfree living demands comprehensive planning substantial investment in infrastructure which can be a complex lengthy process Solutions the successful implementation of carfree cities include expanding public transportation promoting active transportation encouraging carpooling ridesharing adopting electric sustainable transportation focusing on public education awareness In conclusion carfree cities represent a promising vision a more sustainable healthy urban future challenges exist the potential benefits in terms of environmental sustainability public health efficient urban living cost savings make it a compelling goal By investing in public transportation promoting alternative transportation methods involving the public in the planning process cities can work toward a future where cars are no longer the dominant mode of transportation Carfree cities offer a promising vision of a more sustainable vibrant urban environment\n",
            "Converted Essay (in words): ['car', 'free', 'cities', 'carfree', 'cities', 'a', 'concept', 'gaining', 'traction', 'in', 'contemporary', 'urban', 'planning', 'seek', 'to', 'transform']\n"
          ]
        }
      ]
    },
    {
      "cell_type": "markdown",
      "source": [
        "# Model Definition"
      ],
      "metadata": {
        "id": "T9uKoniAQrxn"
      }
    },
    {
      "cell_type": "code",
      "source": [
        "# Model code\n",
        "class AI_Classifier(nn.Module):\n",
        "    def __init__(self, input_size, hidden_size, num_layers, output_size):\n",
        "        super(AI_Classifier, self).__init__()\n",
        "        self.name = \"AI_Classifier\"\n",
        "        self.emb = nn.Embedding.from_pretrained(glove_embeddings.vectors)\n",
        "        self.hidden_size = hidden_size\n",
        "        self.num_layers = num_layers\n",
        "        self.rnn = nn.GRU(input_size, hidden_size, num_layers, batch_first=True)\n",
        "        self.fc = nn.Linear(hidden_size, output_size) # Output size should = 2\n",
        "\n",
        "    def forward(self, x):\n",
        "        # Look up embeddings\n",
        "        # Mask out-of-range indices\n",
        "        mask = (x >= 0) & (x < self.emb.num_embeddings)\n",
        "        x = torch.where(mask, x, torch.zeros_like(x))\n",
        "        x = self.emb(x)\n",
        "        # Set the initial hidden state\n",
        "        h0 = torch.zeros(self.num_layers, x.size(0), self.hidden_size)\n",
        "        # Forward propagate\n",
        "        out, _ = self.rnn(x, h0) # Expects input 3D tensor of (batch_size, seq_length, input_size)\n",
        "        # Fully connected layer\n",
        "        out = self.fc(out[:, -1, :])\n",
        "        # Apply softmax to get 0/1\n",
        "        return F.log_softmax(out, dim=1)\n"
      ],
      "metadata": {
        "id": "Zg_1ZqV3QnFe"
      },
      "execution_count": null,
      "outputs": []
    },
    {
      "cell_type": "code",
      "source": [
        "# Count the number of parameters\n",
        "def count_parameters(model):\n",
        "    return sum(p.numel() for p in model.parameters() if p.requires_grad)\n",
        "\n",
        "lstm_model = AI_Classifier(100, 64, 2, 2)\n",
        "total_params = count_parameters(lstm_model)\n",
        "print(\"Total number of parameters:\", total_params)"
      ],
      "metadata": {
        "colab": {
          "base_uri": "https://localhost:8080/"
        },
        "id": "Ussi5wIl4rj5",
        "outputId": "42c02cea-2c06-45cc-d8c8-5adb362085ae"
      },
      "execution_count": null,
      "outputs": [
        {
          "output_type": "stream",
          "name": "stdout",
          "text": [
            "Total number of parameters: 56962\n"
          ]
        }
      ]
    },
    {
      "cell_type": "markdown",
      "source": [
        "# Model Training Code"
      ],
      "metadata": {
        "id": "-jY85eaIQ7Er"
      }
    },
    {
      "cell_type": "code",
      "source": [
        "###############################################################################\n",
        "# Training\n",
        "def get_model_name(name, batch_size, learning_rate, epoch):\n",
        "    \"\"\" Generate a name for the model consisting of all the hyperparameter values\n",
        "\n",
        "    Args:\n",
        "        config: Configuration object containing the hyperparameters\n",
        "    Returns:\n",
        "        path: A string with the hyperparameter name and value concatenated\n",
        "    \"\"\"\n",
        "    path = \"model_{0}_bs{1}_lr{2}_epoch{3}\".format(name,\n",
        "                                                   batch_size,\n",
        "                                                   learning_rate,\n",
        "                                                   epoch)\n",
        "    return path\n",
        "\n",
        "###############################################################################\n",
        "# Evaluate function\n",
        "def get_accuracy(model, data):\n",
        "  numCorrect = 0\n",
        "  numTotal = 0\n",
        "  for batch in data:\n",
        "    inputs, labels = batch\n",
        "    output = model(inputs)\n",
        "    predicted = output.argmax(dim=1)\n",
        "    numCorrect += (predicted == labels).sum().item()\n",
        "    numTotal += labels.size(0)\n",
        "\n",
        "  accuracy = numCorrect/numTotal\n",
        "  return accuracy\n",
        "\n",
        "def get_type_one_error(model, data):\n",
        "  numClassifiedWronglyAsAI = 0\n",
        "  totalNumClassifiedWrongly = 0\n",
        "  for batch in data:\n",
        "    inputs, labels = batch\n",
        "    output = model(inputs)\n",
        "    predicted = output.argmax(dim=1)\n",
        "    numCorrect = (predicted == labels).sum().item()\n",
        "    totalNumClassifiedWrongly += (labels.size(0) - numCorrect)\n",
        "    numClassifiedWronglyAsAI += ((predicted == 1) & (labels == 0)).sum().item()\n",
        "\n",
        "  return numClassifiedWronglyAsAI/totalNumClassifiedWrongly\n",
        "\n",
        "def  get_loss(model, data, criterion):\n",
        "    model.eval()  # Set model to evaluation mode\n",
        "    total_loss = 0.0\n",
        "    total_batches = 0\n",
        "\n",
        "    with torch.no_grad():  # Disable gradient computation\n",
        "        for batch in data:\n",
        "            inputs, labels = batch\n",
        "            outputs = model(inputs)\n",
        "            loss = criterion(outputs, labels.long())\n",
        "            total_loss += loss.item()\n",
        "            total_batches += 1\n",
        "\n",
        "    average_loss = total_loss / total_batches\n",
        "    return average_loss\n",
        "\n",
        "###############################################################################\n",
        "# Training Curve\n",
        "def plot_training_curve(path):\n",
        "    \"\"\" Plots the training curve for a model run, given the csv files\n",
        "    containing the train/validation error/loss.\n",
        "\n",
        "    Args:\n",
        "        path: The base path of the csv files produced during training\n",
        "    \"\"\"\n",
        "    import matplotlib.pyplot as plt\n",
        "    train_err = np.loadtxt(\"{}_train_err.csv\".format(path))\n",
        "    val_err = np.loadtxt(\"{}_val_err.csv\".format(path))\n",
        "    train_loss = np.loadtxt(\"{}_train_loss.csv\".format(path))\n",
        "    val_loss = np.loadtxt(\"{}_val_loss.csv\".format(path))\n",
        "    plt.title(\"Train vs Validation Error\")\n",
        "    n = len(train_err) # number of epochs\n",
        "    plt.plot(range(1,n+1), train_err, label=\"Train\")\n",
        "    plt.plot(range(1,n+1), val_err, label=\"Validation\")\n",
        "    plt.xlabel(\"Epoch\")\n",
        "    plt.ylabel(\"Error\")\n",
        "    plt.legend(loc='best')\n",
        "    plt.show()\n",
        "    plt.title(\"Train vs Validation Loss\")\n",
        "    plt.plot(range(1,n+1), train_loss, label=\"Train\")\n",
        "    plt.plot(range(1,n+1), val_loss, label=\"Validation\")\n",
        "    plt.xlabel(\"Epoch\")\n",
        "    plt.ylabel(\"Loss\")\n",
        "    plt.legend(loc='best')\n",
        "    plt.show()\n",
        "\n",
        "################################################################################\n",
        "# NOTE: Ground truth labels are 0/1's with AI generated = 1\n",
        "# Training code!\n",
        "def train(model, train, val, n_epochs=15, lr=1e-2, batch_size=25):\n",
        "  criterion = nn.CrossEntropyLoss()\n",
        "  optimizer = torch.optim.Adam(model.parameters(), lr=lr)\n",
        "  # Set up some numpy arrays to store the training/test loss/erruracy\n",
        "  train_err = np.zeros(n_epochs)\n",
        "  train_loss = np.zeros(n_epochs)\n",
        "  val_err = np.zeros(n_epochs)\n",
        "  val_loss = np.zeros(n_epochs)\n",
        "  for epoch in range(n_epochs):\n",
        "    total_train_err = 0.0\n",
        "    total_train_loss = 0.0\n",
        "    total_epoch = 0\n",
        "    for i, data in enumerate(train, 0):\n",
        "      essays, labels = data\n",
        "      #print(essays.shape)\n",
        "      optimizer.zero_grad()\n",
        "      pred = model(essays)\n",
        "      loss = criterion(pred, labels.long())\n",
        "      loss.backward()\n",
        "      optimizer.step()\n",
        "      # Calculate the statistics\n",
        "      total_train_loss += loss.item()\n",
        "    train_err[epoch] = 1 - get_accuracy(model, train)\n",
        "    train_loss[epoch] = float(total_train_loss) / (i+1)\n",
        "    val_err[epoch] = 1- get_accuracy(model, val)\n",
        "    val_loss[epoch] = get_loss(model, val, criterion)\n",
        "    print((\"Epoch {}: Train err: {}, Train loss: {} |\"+\n",
        "               \"Validation err: {}, Validation loss: {}\").format(\n",
        "                   epoch + 1,\n",
        "                   train_err[epoch],\n",
        "                   train_loss[epoch],\n",
        "                   val_err[epoch],\n",
        "                   val_loss[epoch]))\n",
        "    # Save the current model (checkpoint) to a file\n",
        "    model_path = get_model_name(model.name, batch_size, lr, epoch)\n",
        "    torch.save(model.state_dict(), model_path)\n",
        "  print('Finished Training')\n",
        "  # Write the train/test loss/err into CSV file for plotting later\n",
        "  epochs = np.arange(1, n_epochs + 1)\n",
        "  np.savetxt(\"{}_train_err.csv\".format(model_path), train_err)\n",
        "  np.savetxt(\"{}_train_loss.csv\".format(model_path), train_loss)\n",
        "  np.savetxt(\"{}_val_err.csv\".format(model_path), val_err)\n",
        "  np.savetxt(\"{}_val_loss.csv\".format(model_path), val_loss)\n",
        "\n",
        "  # Plot\n",
        "  model_path = get_model_name(model.name, batch_size, lr, n_epochs - 1)\n",
        "  plot_training_curve(model_path)"
      ],
      "metadata": {
        "id": "QEslN0YBRHkf"
      },
      "execution_count": null,
      "outputs": []
    },
    {
      "cell_type": "markdown",
      "source": [
        "# Train the model!"
      ],
      "metadata": {
        "id": "BkNm9uplVYVh"
      }
    },
    {
      "cell_type": "code",
      "source": [
        "# Define the model\n",
        "input_size = 100  # size of word embeddings\n",
        "hidden_size = 64\n",
        "num_layers = 2\n",
        "output_size = 2  # binary classification (human or AI generated)\n",
        "seq_length = 20  # length of input sequence\n",
        "\n",
        "# Initialize the classifier\n",
        "Main_Model = AI_Classifier(input_size, hidden_size, num_layers, output_size)\n",
        "\n",
        "# Train the model using the updated training code\n",
        "train(Main_Model, train_loader, val_loader, n_epochs=15, lr=1e-2, batch_size=25)  #updated the model to these parameters"
      ],
      "metadata": {
        "colab": {
          "base_uri": "https://localhost:8080/",
          "height": 1000
        },
        "id": "jv8GfA__VcVp",
        "outputId": "35d970a8-0ed6-4c3d-f30f-5d4284e27399"
      },
      "execution_count": null,
      "outputs": [
        {
          "output_type": "stream",
          "name": "stdout",
          "text": [
            "Epoch 1: Train err: 0.06944908180300502, Train loss: 0.5601055152872776 |Validation err: 0.07512520868113526, Validation loss: 0.2055425152499625\n",
            "Epoch 2: Train err: 0.033055091819699456, Train loss: 0.14316879993582027 |Validation err: 0.04340567612687818, Validation loss: 0.13048352554757545\n",
            "Epoch 3: Train err: 0.019365609348914847, Train loss: 0.086107943603333 |Validation err: 0.03138564273789646, Validation loss: 0.09901100714155968\n",
            "Epoch 4: Train err: 0.010684474123539234, Train loss: 0.057502219904253776 |Validation err: 0.022704507512520844, Validation loss: 0.07919778821474695\n",
            "Epoch 5: Train err: 0.00968280467445748, Train loss: 0.0505599630104893 |Validation err: 0.031051752921535947, Validation loss: 0.1122468662586935\n",
            "Epoch 6: Train err: 0.03606010016694494, Train loss: 0.03169343798629385 |Validation err: 0.05943238731218703, Validation loss: 0.23982996414316463\n",
            "Epoch 7: Train err: 0.0013355592654423765, Train loss: 0.03536578537549506 |Validation err: 0.024707846410684464, Validation loss: 0.08695112749131674\n",
            "Epoch 8: Train err: 0.005676126878130239, Train loss: 0.020999483985236867 |Validation err: 0.02771285475792984, Validation loss: 0.10420814221923022\n",
            "Epoch 9: Train err: 0.030717863105175325, Train loss: 0.015854493443646093 |Validation err: 0.056761268781302165, Validation loss: 0.20885885040216307\n",
            "Epoch 10: Train err: 0.0033388981636059967, Train loss: 0.032504890302315036 |Validation err: 0.031051752921535947, Validation loss: 0.12176765869074363\n",
            "Epoch 11: Train err: 0.00400667779632724, Train loss: 0.015055769149763906 |Validation err: 0.0337228714524207, Validation loss: 0.13340051177928738\n",
            "Epoch 12: Train err: 0.005342237061769617, Train loss: 0.009686356541351415 |Validation err: 0.035058430717863076, Validation loss: 0.16577263612874804\n",
            "Epoch 13: Train err: 0.002337228714524242, Train loss: 0.025768005730029433 |Validation err: 0.026377295492487463, Validation loss: 0.1069095172446241\n",
            "Epoch 14: Train err: 0.0006677796327212437, Train loss: 0.02362571256681088 |Validation err: 0.024707846410684464, Validation loss: 0.08758740604389459\n",
            "Epoch 15: Train err: 0.0013355592654423765, Train loss: 0.010822638633978018 |Validation err: 0.029382303839732837, Validation loss: 0.14856957227544007\n",
            "Finished Training\n"
          ]
        },
        {
          "output_type": "display_data",
          "data": {
            "text/plain": [
              "<Figure size 640x480 with 1 Axes>"
            ],
            "image/png": "[encoded data removed]"
          },
          "metadata": {}
        },
        {
          "output_type": "display_data",
          "data": {
            "text/plain": [
              "<Figure size 640x480 with 1 Axes>"
            ],
            "image/png": "[encoded data removed]"
          },
          "metadata": {}
        }
      ]
    },
    {
      "cell_type": "code",
      "source": [
        "# Save model dictionary\n",
        "torch.save(Main_Model.state_dict(), 'model.pth')\n",
        "from google.colab import files\n",
        "files.download('model.pth')\n"
      ],
      "metadata": {
        "colab": {
          "base_uri": "https://localhost:8080/",
          "height": 17
        },
        "id": "DvCvDxrRXFmr",
        "outputId": "2a2ddeff-2ba3-471d-ef1d-da78c6808515"
      },
      "execution_count": null,
      "outputs": [
        {
          "output_type": "display_data",
          "data": {
            "text/plain": [
              "<IPython.core.display.Javascript object>"
            ],
            "application/javascript": [
              "\n",
              "    async function download(id, filename, size) {\n",
              "      if (!google.colab.kernel.accessAllowed) {\n",
              "        return;\n",
              "      }\n",
              "      const div = document.createElement('div');\n",
              "      const label = document.createElement('label');\n",
              "      label.textContent = `Downloading \"${filename}\": `;\n",
              "      div.appendChild(label);\n",
              "      const progress = document.createElement('progress');\n",
              "      progress.max = size;\n",
              "      div.appendChild(progress);\n",
              "      document.body.appendChild(div);\n",
              "\n",
              "      const buffers = [];\n",
              "      let downloaded = 0;\n",
              "\n",
              "      const channel = await google.colab.kernel.comms.open(id);\n",
              "      // Send a message to notify the kernel that we're ready.\n",
              "      channel.send({})\n",
              "\n",
              "      for await (const message of channel.messages) {\n",
              "        // Send a message to notify the kernel that we're ready.\n",
              "        channel.send({})\n",
              "        if (message.buffers) {\n",
              "          for (const buffer of message.buffers) {\n",
              "            buffers.push(buffer);\n",
              "            downloaded += buffer.byteLength;\n",
              "            progress.value = downloaded;\n",
              "          }\n",
              "        }\n",
              "      }\n",
              "      const blob = new Blob(buffers, {type: 'application/binary'});\n",
              "      const a = document.createElement('a');\n",
              "      a.href = window.URL.createObjectURL(blob);\n",
              "      a.download = filename;\n",
              "      div.appendChild(a);\n",
              "      a.click();\n",
              "      div.remove();\n",
              "    }\n",
              "  "
            ]
          },
          "metadata": {}
        },
        {
          "output_type": "display_data",
          "data": {
            "text/plain": [
              "<IPython.core.display.Javascript object>"
            ],
            "application/javascript": [
              "download(\"download_38164bbc-dd94-4534-909a-cb9caef65c4a\", \"model.pth\", 160231063)"
            ]
          },
          "metadata": {}
        }
      ]
    },
    {
      "cell_type": "markdown",
      "source": [
        "###Qualitative Testing\n",
        "Going to print out 5 essays in each category to try to find qualitative reasons for the classification (true positives, true negatives, false positives, false negatives)"
      ],
      "metadata": {
        "id": "zPevqtTlPSzP"
      }
    },
    {
      "cell_type": "code",
      "source": [
        "def split_data_by_class(data):\n",
        "    class_data = {0: [], 1: []}  # Assuming binary classification\n",
        "\n",
        "    for batch in data:\n",
        "        essays, labels = batch\n",
        "        for i, label in enumerate(labels):\n",
        "            class_data[label.item()].append((essays[i], label))\n",
        "\n",
        "    return class_data\n",
        "\n",
        "def get_accuracy_by_class(model, class_data):\n",
        "    class_accuracy = {}\n",
        "\n",
        "    for label, class_subset in class_data.items():\n",
        "        num_correct = 0\n",
        "        num_total = len(class_subset)\n",
        "        for essay, label in class_subset:\n",
        "            output = model(essay.unsqueeze(0))  # Assuming model takes single input\n",
        "            predicted = output.argmax(dim=1)\n",
        "            num_correct += (predicted == label).item()\n",
        "\n",
        "        class_accuracy[label] = (num_correct / num_total) * 100 if num_total > 0 else 0\n",
        "\n",
        "    return class_accuracy\n",
        "\n",
        "class_data = split_data_by_class(val_loader)\n",
        "class_accuracy = get_accuracy_by_class(Main_Model, class_data)\n",
        "\n",
        "flag = False\n",
        "for label, accuracy in class_accuracy.items():\n",
        "    # print(\"Accuracy for class\", label, \":\", accuracy)\n",
        "    if flag: print(\"False Positive rate (%):\", 100 - accuracy)\n",
        "    else: print(\"False Negative rate (%):\", 100 - accuracy)\n",
        "    flag = not flag\n"
      ],
      "metadata": {
        "colab": {
          "base_uri": "https://localhost:8080/"
        },
        "id": "sIb7GoS_Tkw4",
        "outputId": "0c631604-c118-4f93-d40b-c30e159d7c66"
      },
      "execution_count": null,
      "outputs": [
        {
          "output_type": "stream",
          "name": "stdout",
          "text": [
            "False Negative rate (%): 0.6737787759685574\n",
            "False Positive rate (%): 6.260296540362447\n"
          ]
        }
      ]
    },
    {
      "cell_type": "code",
      "source": [
        "for label, accuracy in class_accuracy.items():\n",
        "    # print(\"Accuracy for class\", label, \":\", accuracy)\n",
        "    if flag: print(\"True Positive rate (%):\", accuracy)\n",
        "    else: print(\"True Negative rate (%):\", accuracy)\n",
        "    flag = not flag\n"
      ],
      "metadata": {
        "colab": {
          "base_uri": "https://localhost:8080/"
        },
        "id": "8xTOYEQrC_jz",
        "outputId": "02c98c42-b895-4676-d3ae-cf25ed7d2625"
      },
      "execution_count": null,
      "outputs": [
        {
          "output_type": "stream",
          "name": "stdout",
          "text": [
            "True Negative rate (%): 99.32622122403144\n",
            "True Positive rate (%): 93.73970345963755\n"
          ]
        }
      ]
    },
    {
      "cell_type": "code",
      "source": [
        "def evaluate_model(model, dataloader, amount):\n",
        "    true_positives = []\n",
        "    true_negatives = []\n",
        "    false_positives = []\n",
        "    false_negatives = []\n",
        "\n",
        "    true_positives_count = 0\n",
        "    true_negatives_count = 0\n",
        "    false_positives_count = 0\n",
        "    false_negatives_count = 0\n",
        "\n",
        "    model.eval()  # Set the model to evaluation mode\n",
        "    with torch.no_grad():\n",
        "        for essays, labels in dataloader:\n",
        "            outputs = model(essays)\n",
        "            predictions = torch.argmax(outputs, dim=1)\n",
        "\n",
        "            for i in range(len(predictions)):\n",
        "                if predictions[i] == 1 and labels[i] == 1 and true_positives_count < amount:  # True positives\n",
        "                    true_positives.append((essays[i], predictions[i].item(), labels[i].item()))\n",
        "                    true_positives_count += 1\n",
        "                elif predictions[i] == 0 and labels[i] == 0 and true_negatives_count < amount:  # True negatives\n",
        "                    true_negatives.append((essays[i], predictions[i].item(), labels[i].item()))\n",
        "                    true_negatives_count += 1\n",
        "                elif predictions[i] == 1 and labels[i] == 0 and false_positives_count < amount:  # False positives\n",
        "                    false_positives.append((essays[i], predictions[i].item(), labels[i].item()))\n",
        "                    false_positives_count += 1\n",
        "                elif predictions[i] == 0 and labels[i] == 1 and false_negatives_count < amount:  # False negatives\n",
        "                    false_negatives.append((essays[i], predictions[i].item(), labels[i].item()))\n",
        "                    false_negatives_count += 1\n",
        "\n",
        "                # Break the loop if we have collected 5 samples for each category\n",
        "                if true_positives_count == amount and true_negatives_count == amount and false_positives_count == amount and false_negatives_count == amount:\n",
        "                    break\n",
        "\n",
        "            # Break the outer loop if we have collected 5 samples for each category\n",
        "            if true_positives_count == amount and true_negatives_count == amount and false_positives_count == amount and false_negatives_count == amount:\n",
        "                break\n",
        "\n",
        "    return true_positives, true_negatives, false_positives, false_negatives\n",
        "\n",
        "\n",
        "# Assuming you have defined your DataLoader for validation set as val_loader\n",
        "true_positives, true_negatives, false_positives, false_negatives = evaluate_model(Main_Model, val_loader, 3)\n",
        "\n",
        "# Function to print sample essays for each category\n",
        "def print_sample_essays(category, samples):\n",
        "    print(f\"{category} ({len(samples)} samples):\")\n",
        "    for i, essay_tuple in enumerate(samples, 1):\n",
        "        essay, prediction, label = essay_tuple\n",
        "        print(f\"Sample {i}:\")\n",
        "        print(\"Predicted Label:\", prediction)\n",
        "        print(\"True Label:\", label)\n",
        "        print(\"Essay:\")\n",
        "        # Convert indices back to words using GloVe embeddings\n",
        "        essay_words = [glove_embeddings.itos[index] for index in essay if index != 0]  # Skip padding tokens\n",
        "        print(\" \".join(essay_words))  # Print the essay as a single string\n",
        "        print(\"\\n\")\n",
        "\n",
        "# Now you can print out sample essays for each category\n",
        "print_sample_essays(\"True Positives\", true_positives)\n",
        "print_sample_essays(\"True Negatives\", true_negatives)\n",
        "print_sample_essays(\"False Positives\", false_positives)\n",
        "print_sample_essays(\"False Negatives\", false_negatives)\n"
      ],
      "metadata": {
        "colab": {
          "base_uri": "https://localhost:8080/"
        },
        "id": "1kJUmIWLPRy7",
        "outputId": "0a2cc3cd-b3f8-46ca-9795-a544fe3f06fb"
      },
      "execution_count": null,
      "outputs": [
        {
          "output_type": "stream",
          "name": "stdout",
          "text": [
            "True Positives (3 samples):\n",
            "Sample 1:\n",
            "Predicted Label: 1\n",
            "True Label: 1\n",
            "Essay:\n",
            "success in any field be it academic professional is a result of many factors adaptability change are two of most essential skills that help an individual survive thrive in any new environment it is a new school a new job a new country ability to adjust to new surroundings situations is critical once an individual has adapted to their new environment ability to drive change can lead to greater success therefore i agree that success involves an ability to survive in a new environment and eventually to change it survival in a new environment requires a willingness to learn adapt to new cultures work environments people in academic settings students may change schools move to new countries their studies which can be overwhelming however those who succeed are often ones who can adapt to their new surroundings learn new languages embrace new cultures example a student who moves from a small town to a big city college may initially feel out of place eventually they learn to navigate city find new friends community succeed academically similarly in professional settings employees may face new job roles work cultures may work in new countries those who can adapt learn new skills succeed in their new roles those who resist change may struggle fail once an individual has adapted to their new environment ability to drive change can lead to greater success in academic settings students who are curious ask questions can drive debate change way their colleagues think example a student who challenges a professors longheld assumptions may inspire others to question status quo lead to new ways of thinking similarly in professional settings employees who challenge norms propose new ideas take risks often drive change innovation in their organizations in todays rapidly changing workplaces adaptability change management have become essential skills that can help companies stay competitive in conclusion success in any field requires an ability to survive in a new environment eventually change it it is adapting to a new school a new job a new country individuals who can learn adjust to new environments will be more successful once they have adapted their ability to challenge status quo drive change can lead to greater success therefore it is essential that we cultivate skills of adaptability change management to succeed in todays dynamic rapidly changing world\n",
            "\n",
            "\n",
            "Sample 2:\n",
            "Predicted Label: 1\n",
            "True Label: 1\n",
            "Essay:\n",
            "sandberger nature of technology has brought about exciting advancements in field of artificial intelligence its implications are sandberger not all technology experts agree on exact definition of artificial intelligence ai it is generally understood to be a form of computer science that enables machines to learn from their experience perform tasks normally requiring human intelligence ai applications range from everyday consumer products such as virtual assistants sandberger cars to complex systems that can detect fraud predict stock market in recent years ai has had a dramatic impact on industries ranging from healthcare to finance instance some medical institutions now rely on machine learning algorithms diagnosing illnesses detecting potential health risks much more quickly accurately than was previously possible with manual methods similarly financial organizations often employ ai tools helping customers make investment decisions by providing personalized advice based on data analysis ais potential extends beyond traditional business models into virtually every aspect of our sandberger transforming education through interactive learning platforms to aiding law enforcement agencies in combatting crime using facial recognition software in addition scientists have turned their attention towards incorporating ai into robotics technologies which could potentially revolutionize areas like elder care manufacturing processes by automating mundane tasks usually done by humans as impressive as these applications may seem at first glance however there are still many ethical concerns surrounding development of new artificial intelligences chief among them being they should be given legal rights similar to those enjoyed by humans beings under certain circumstances such as making decisions that involve life death scenarios furthermore do companies developing this technology have an obligation to ensure it is used responsibly it is clear that we must address these difficult questions any full scale deployment can take place society wishes to reap benefits avoiding negative consequences associated with unethical uses of ai technology ultimately then artificial intelligence represents one of sandberger greatest achievements also carries numerous unknowns regarding how it will shape our world\n",
            "\n",
            "\n",
            "Sample 3:\n",
            "Predicted Label: 1\n",
            "True Label: 1\n",
            "Essay:\n",
            "there is a great deal of truth to saying that successful people try new things take risks indeed sandberger is often a key component to success this is successful people are not afraid to fail they are willing to take risks in order to achieve their goals example consider story of bill gates gates was a college dropout who founded microsoft one of most successful companies in world how did gates achieve this level of success he took risks instance gates risked his entire fortune on development of a new software product it paid off microsoft became a household name another example of a successful sandberger is elon musk musk is founder of tesla spacex several other successful businesses like gates musk has a history of taking risks example in 2008 musk risked his entire fortune by investing in tesla company was struggling at time musk believed in its potential he was right tesla is now a leading manufacturer of electric cars so why do successful people take risks there are several reasons first sandberger allows people to achieve things that they never thought possible second sandberger can lead to new opportunities experiences finally sandberger can help people learn grow as individuals in conclusion successful people take risks they know that it is best way to achieve their goals they are not afraid to fail they are willing to try new things this approach often leads to success\n",
            "\n",
            "\n",
            "True Negatives (3 samples):\n",
            "Sample 1:\n",
            "Predicted Label: 0\n",
            "True Label: 0\n",
            "Essay:\n",
            "have you ever wondered why people text drive texting driving is dangerous can cause trouble not only yourself other people i think people should not be able to use cellphones in any capacity operating a vehicle according to www sandberger sandberger use of a cell phone driving caused an estimated 15 million car accidents in 2017 this shows that 2 years ago a lot of people were using cellphones driving i feel as government could have a system where they can detect phones people are driving which means officers can look in drivers cars doesnt have to be there physically i think this idea will help people stay focused on road more can help other drivers stay safe i also think people should not be able to use a cellphone in capacity operating a vehicle you are focused on your phone your at a stop you can hold up traffic you can get a ticket holding up traffic according to www google com a traffic ticket is 70 to 400 depending on your state law drivers sandberger you have a bad drivers record have unpaid tickets you will have to spend time in jail pay fines your licences can get suspended i was doing some research about texting driving according to www google com 49 american adults admit to texting driving 90 of american adults know texting driving is dangerous some people know how to drive consequences behind texting driving there are still car accidents pertaining a cell phone with technology today there are still accidents that could have been prevented that were involved with a cellphone in other words i feel as drivers should not be able to use cellphones driving people can get into accidents get harmed possibly die from it i also feel like people are on their phone driving it distracts them they can hold up traffic get traffic tickets last not least people know they sandberger text drive still do it society now days know wrong from right do opposite my advice to people who text drive is to stop texting driving you need to use ur phone on road make sure you have a passenger that can help with you\n",
            "\n",
            "\n",
            "Sample 2:\n",
            "Predicted Label: 0\n",
            "True Label: 0\n",
            "Essay:\n",
            "today there are many reasons why we should should not have car one of main reasons is air sandberger many people are sandberger cars all these cars are creating all this sandberger united states enviromental protection agency is sandberger cars to be reduced near record sandberger paris sandberger driving to clear some of air i do believe cars cause a huge sandberger to our clean air i do not agree with banning people from driving gassed cars it would be better environment people would start buying electric cars hybrid some dont run off of gas some use very little gas using these electric cars will sandberger everyone it cost less instead of buying gas it leaves cleaner air in our environment even lets say forty percent of united states citizens used electric cars that would still leave a huge roll in having cleaner air us to breath we all do switch to electric cars then cities need to provide sandberger cars like this that we are out a our cars battery dies we can charge car i think people dont use these cars as much they think well what sandberger my cars battery dies then there screwed i believe they came out with chargers bigger cars families then more people would want to participate in joining an electric car this wont just be saving them money this is also saving some of air that we breath\n",
            "\n",
            "\n",
            "Sample 3:\n",
            "Predicted Label: 0\n",
            "True Label: 0\n",
            "Essay:\n",
            "it wouldnt even matter school lunch changes to healthy food even this day they still dont change to a sandberger choice students has tried to make school lunch meals change there wasnt any difference sometimes sandberger doesnt make good healthy food choice there will be times that lunch menu will have healthy choices not sandberger choices example lunches gives us two options one is pizza other rice with chicken students will sandberger go pizza it would be a good idea that school lunches menu changes to a healthy menus we do need to consider other students their eating sandberger most students doesnt even eat they even go a whole day without eating school were to change unhealthy food they should get rid of pizza hot dogs chicken nuggets make up potatos with rice chicken a nice pasta salad with tomatoes onions and sandberger some students are vegan maybe they can have a veggie burger anything with veggies thats case to change school lunch menu school should consider about how where they should spend money on things like changing floor tiles its unnecessary it could have been something better no one really cares about how bad school lunch is its not worst thing in world anyways thats why us students have to be smart bring our own food to school like most of them do in reality it really doesnt matter students still eat school food some students do complain about how nasty food is they still wont bring their own food how logical is that to be honest there are sometimes good lunches like we said its not best thing in world its okay dont waste on changing something you knew it could of been done from start just bring your own food from home you wont have worry about school menu\n",
            "\n",
            "\n",
            "False Positives (3 samples):\n",
            "Sample 1:\n",
            "Predicted Label: 1\n",
            "True Label: 0\n",
            "Essay:\n",
            "anyone who has watched television more than five minutes in last two three years has undoubtedly either seen a commercial that shows gruesome consequences of texting driving seen a news story that spoke about a person who lost their life of a text message that simply could not wait texting driving is not something that should be done under most circumstances as a person should be giving their full attention focus to road in front of them not phone in their hand texting should not ever be main priority in a sandberger life there are a number of instances where person should put their phone down wait proper moment to send that all important text to a friend once a person gets used to texting driving there is no telling where it will stop one of biggest problems with technological advances that are being made is that it is turning people who used to be thoughtful caring about world around them into zombies you are constantly staring into a phone you are bound to miss out on little things in life texting driving does not encourage a person to care about their surroundings fosters a sense of detachment from world at large constantly waiting that next text to come rolling in is no way to live life is not always entertaining with advent of smart phones people are now discovering way to keep themselves amused constantly which is not healthy there are moments in life that are sad boring simply indifferent you do not give yourself a chance to appreciate slower periods in life you are not able to appreciate good times as much\n",
            "\n",
            "\n",
            "Sample 2:\n",
            "Predicted Label: 1\n",
            "True Label: 0\n",
            "Essay:\n",
            "example is a good setting to influence other people more understand accepted by example example help people to understand more people accepted idea by example example is best way to make people know idea more advantage more accepted by people more understand are why example is a good setting to influence other even thought example are more advantages influence to other examples make people to understand idea someone give you examples title you will understand easily quickly examples make main idea enter to peoples brain very quickly example examples make people more knowing about others by know what others want need to understand idea example is a good way to explain idea to people people want more examples to understand idea first of all examples make people accepted idea very quick example idea needs many example details to understand it someone give you idea with examples details you will understand it quickly someone give idea without examples details you will understand very slowly you will not understand either in addition some people understand idea title by example details finally examples details is best way to explain your own behavior to others thirdly examples are good thing to understand others by influence them example you want understand something you should know some example it examples make you know idea you leading by example your idea will influence others addition you can make your idea easily by add examples details people leading by example they will understand each other sandberger leading by example is best way to people understand each other understand ideas some people argue that example is not main thing in influencing other they say some examples are not advantages this may be true however examples are more advantages affects to others example people affect from tittle more then example in addition make people understand then example finally example sometimes confuse people to understand idea in conclusion example are more advantages influence to other make people to understand idea examples make people accepted idea very quick example idea needs many example details to understand it examples are good thing to understand others by influence them example you want understand something you should know example it more advantage more accepted by people more understand are why example is a good setting to influence other\n",
            "\n",
            "\n",
            "Sample 3:\n",
            "Predicted Label: 1\n",
            "True Label: 0\n",
            "Essay:\n",
            "most people seek advice from multiple individuals faced with a problem they have good reason too speaking to multiple people about advice can help person searching it open new doors seeking advice from others is highly beneficial they can help person see another point of view help him her see flaws strengths in an already existing idea someone asks multiple people advice that person is given opportunity of seeing different points of view perhaps this person could see no other option his her own all of our brains work differently going to other people new ideas could help open up other pathways to a solution additionally seeking advice from multiple persons may help seeker see a flaw in an existing idea hearing what other people think about an individuals idea could help see what could be improved upon similarly this could also help that individual see strengths that prove that his hers initial idea is right choice in conclusion gathering advice from many people helps someone see new possibilities to an idea see strengths weaknesses of a preexisting one getting a fresh look at a problem can help someone see new ways it can be solved advice from others can also help critique an idea many people that seek advice from multiple sources are utilizing every tool they have access to\n",
            "\n",
            "\n",
            "False Negatives (3 samples):\n",
            "Sample 1:\n",
            "Predicted Label: 0\n",
            "True Label: 1\n",
            "Essay:\n",
            "seeking multiple opinions can help someone make a better choice it gives them different perspectives ideas example you ask your friend advice on what to wear to a party they might suggest wearing a dress you also ask your mom she might suggest wearing a nice blouse pants now you have two options to choose from you can decide which one you like better another reason why seeking multiple opinions is helpful is that it can help you avoid making a bad decision sometimes we might not see all possible consequences of our choices other people might be able to see things that we missed instance you are thinking of quitting your piano lessons your piano teacher might tell you that you have been doing really well that you should stick with it your best friend might remind you of how much you love playing piano how you have always talked about becoming a professional pianist hearing both opinions can help you make a more informed decision in conclusion seeking multiple opinions can help someone make a better choice it gives them different perspectives ideas it can also help them avoid making a bad decision so next time you need advice dont be afraid to ask different people their input\n",
            "\n",
            "\n",
            "Sample 2:\n",
            "Predicted Label: 0\n",
            "True Label: 1\n",
            "Essay:\n",
            "statements about future are always extremely unpredictable they can change at any time any reason therefore it is impossible to predict exactly what will happen in near future however we can make some educated guesses based on what we know about how world works today what is likely to happen over next few decades following is a list of some of factors that will likely have an impact on number of cars that are used in 20 years 1 automobiles will become more fuel efficient in united states average fuel efficiency of new cars has increased from 175 miles per gallon mpg in 1970 to 244 mpg in 2005 this increase is due to a combination of improvements in vehicle design fuel economy standards increased use of alternative fuels such as ethanol biodiesel as a result of these improvements americans are driving fewer miles on their cars than they were in 1990 according to u s energy information administration eia percentage of americans who drive less than 10000 miles a year has decreased by more than sandberger early 1990s by 2040 eia projects that this percentage will decrease even further to just over half of all americans 2 more people will use public transportation public transportation has been growing rapidly in recent years is expected to continue to do as population continues to grow more people move to urban areas a recent study by american public transportation association apta predicts that public transit ridership will increase by nearly 50 percent between 2000 2030 3 people will buy more electric cars electric vehicles evs are becoming increasingly popular are projected to become most popular type of vehicle by 2020 evs are more efficient than sandberger vehicles can be charged at home at public charging stations making them more convenient sandberger people who do not want to own a car evs are also more environmentally friendly than conventional vehicles as they emit less carbon dioxide other pollutants they are running 4 cars will get more expensive price of gasoline has remained relatively stable 2005 gasoline prices have increased by an average of about 10 percent per year\n",
            "\n",
            "\n",
            "Sample 3:\n",
            "Predicted Label: 0\n",
            "True Label: 1\n",
            "Essay:\n",
            "as a student i strongly believe that school board should not add more time to school hours i understand there is great interest to improve quality of education i dont think that a longer school day would do much good starters increasing school hours would likely take away valuable time that students need to complete their homework other academic assignments this would be counterproductive students need to have enough time to be able to do their schoolwork properly it would also detract from quality of instruction as teachers would be more rushed students would lack energy concentration to absorb lesson furthermore many students have plans school that they look forward to they involve extracurricular activities simply socializing with friends these activities are important in helping to develop sandberger individuals coupled with this is need to have some spare time to go somewhere sandberger to enjoy a hobby pick up a parttime job just to get out of house adding more time to school day would cut into all of that finally sandberger issue of being bored in class with longer school days we would be subjected to even more tedious lectures discussions such an atmosphere would not only further reduce quality of teaching students would become more disgruntled resentful of their schoolwork all these reasons i believe that school board should not add more time to school hours thank you your time consideration in this matter\n",
            "\n",
            "\n"
          ]
        }
      ]
    },
    {
      "cell_type": "markdown",
      "source": [
        "### Testing"
      ],
      "metadata": {
        "id": "5qucV6N_Pi6Y"
      }
    },
    {
      "cell_type": "code",
      "source": [
        "from google.colab import drive\n",
        "drive.mount('/content/gdrive')\n",
        "\n",
        "modelPath = '/content/gdrive/My Drive/APS360/Project/model.pth'\n",
        "\n",
        "# Define the model\n",
        "input_size = 100  # size of word embeddings\n",
        "hidden_size = 64\n",
        "num_layers = 2\n",
        "output_size = 2  # binary classification (human or AI generated)\n",
        "seq_length = 20  # length of input sequence\n",
        "\n",
        "# Initialize the LSTM classifier\n",
        "Test_Model = AI_Classifier(input_size, hidden_size, num_layers, output_size)\n",
        "\n",
        "# Load the saved state dictionary\n",
        "state_dict = torch.load(modelPath)\n",
        "\n",
        "# Apply the state dictionary to the model\n",
        "Test_Model.load_state_dict(state_dict)\n",
        "\n",
        "# Import NEW SAMPLES/TEST DATA\n",
        "test_accuracy = get_accuracy(Test_Model, test_loader)\n",
        "print(\"Test Accuracy = \", test_accuracy)\n",
        "\n",
        "type_one_error = get_type_one_error(Test_Model, test_loader)\n",
        "print(\"Percent of error due to human essays being classified as AI: \", type_one_error)"
      ],
      "metadata": {
        "id": "QacyTJe_0dg_"
      },
      "execution_count": null,
      "outputs": []
    }
  ]
}